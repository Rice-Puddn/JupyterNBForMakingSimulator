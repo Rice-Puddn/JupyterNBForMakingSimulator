{
 "cells": [
  {
   "cell_type": "markdown",
   "metadata": {},
   "source": [
    "Let's start with the Lennard-Jones potential energy model. \n",
    "But before doing that, let's recap on the Newton's second law of motion.\n",
    "\n",
    "$\\vec{f}=m\\vec{a}$\n",
    "  \n",
    "$\\vec{f}$ is the force vector on an atom of mass, m, with an acceleration vector $\\vec{a}$. Between two atoms, at a position $r$, can be found from the interaction energy, $E(r)$ -- the energy term described by the Lennard-Jones potential.\n",
    "\n",
    "$\\vec{f}=\\frac{-\\partial E(r)}{\\partial r}$\n",
    "Be aware, the force $\\vec{f}$ exist on every degrees of freedom. "
   ]
  },
  {
   "cell_type": "markdown",
   "metadata": {},
   "source": [
    "\n",
    "We have introduced the classical potential models, and have derived and shown some of their basic properties. Now we can use these potential models to look into the dynamics of the system.\n"
   ]
  },
  {
   "attachments": {
    "image.png": {
     "image/png": "[encoded data removed]"
    }
   },
   "cell_type": "markdown",
   "metadata": {},
   "source": [
    "## Task1: Print the L-J force for Ar–Ar interactions.\n",
    "## Input: r (distance), epsilon (potential energy at the equilibrium bond distance), and sigma (distance at which the potential energy is zero)\n",
    "## Output: the force between the Ar–Ar atoms.\n",
    "## Hint: 1. the energy function is: ![image.png](attachment:image.png)\n",
    "## Hint: 2. you have to take the derivative of energy to r to get force."
   ]
  },
  {
   "cell_type": "code",
   "execution_count": null,
   "metadata": {},
   "outputs": [],
   "source": [
    "import numpy as np\n",
    "import matplotlib.pyplot as plt\n",
    "from scipy.constants import Boltzmann\n",
    "mass_of_argon = 39.948 # amu\n",
    "\n",
    "def lj_force(r, epsilon, sigma):\n",
    "    #negative derivative of energy as a function of r\n",
    "    #sigma and r in angstroms, epsilon is in kJ/mol\n",
    "    return ##FILL IN HERE\n",
    "    \n",
    "r = np.linspace(3.5, 8, 100)\n",
    "plt.plot(r, lj_force(r, 0.0103, 3.4))\n",
    "plt.xlabel(r'$r$/Å')\n",
    "plt.ylabel(r'$f$/eVÅ$^{-1}$')\n",
    "plt.show()"
   ]
  },
  {
   "cell_type": "markdown",
   "metadata": {},
   "source": [
    "## Task2: MD propagation"
   ]
  },
  {
   "cell_type": "markdown",
   "metadata": {},
   "source": [
    "first we can go thru verlet define time step $\\Delta t$\n",
    "first we start from position coordinating $r$ Taylor expansion at $\\Delta t$:\n",
    "\n",
    "$r(t+\\Delta t) \\approx r(t) + \\Delta tdot{r(t)} + \\frac{1}{2} \\Delta t^2 \\ddot{r} = r(t)+ \\Delta tv(t) + \\frac{1}{2} \\Delta t^2 a(t)$     …………  eq1\n",
    "\n",
    "on the opposite direction: \n",
    "\n",
    "$r(t-\\Delta t) \\approx r(t)- \\Delta tv(t) + \\frac{1}{2} \\Delta t^2 a(t)$  …………eq2\n",
    "\n",
    "eq1 + eq2 we can have:\n",
    "\n",
    "$r(t-\\Delta t) + r(t+\\Delta t) \\approx 2 r(t) +  \\Delta t^2 a(t)$\n",
    "\n",
    "for position $r$\n",
    "\n",
    "$ r(t+\\Delta t) \\approx 2 r(t) - r(t-\\Delta t) +  \\Delta t^2 a(t)$\n",
    "\n",
    "the Velocity for t can be determined as:\n",
    "\n",
    "Velocity: $v(t) = \\frac{r(t-\\Delta t) - r(t+\\Delta t)}{2\\Delta t}$\n",
    "\n",
    "However, it is unstable to directly use $r(t-\\Delta t) - r(t+\\Delta t)$\n",
    "\n",
    "So Velocity Verlet method:\n",
    "\n",
    "first from eq1 and eq2 we can have \n",
    "\n",
    "$r(t) = r(t+\\Delta t)  - \\Delta tv(t + \\Delta t) + \\frac{1}{2}\\Delta t^2 a(t + \\Delta t) $ ………… eq3\n",
    "\n",
    "and we can have:\n",
    "\n",
    "$ r(t+\\Delta t) = r(t) + \\Delta tv(t) + \\frac{1}{2}\\Delta t^2 a(t)$ ………… eq4\n",
    "\n",
    "then we put eq4 to eq3\n",
    "\n",
    "$v(t + \\Delta t) = v(t) + \\frac{1}{2}\\Delta t[ 2a(t) + a(\\Delta t)]$ ………… eq5 #VV algorithm\n",
    "\n",
    "\n",
    "\n",
    "Pseudocode for total VV\n",
    "\n",
    "$a(0) \\leftarrow Update \\ force:\\frac{\\vec{F[r(0)]}}/{m}$\n",
    "\n",
    "$for k=0 … nsteps $ \n",
    "\n",
    "$for i=1 …… n$ n=total atoms number:\n",
    "\n",
    "${v_i}(t + \\frac{\\Delta t}{2}) \\leftarrow {v_i}(t) + \\frac{1}{2} \\Delta t {a_i}(t) $\n",
    "\n",
    "\n",
    "$for i=1 …… n$ n=total atoms number:\n",
    "\n",
    "${r_i}(t + {\\Delta t}) \\leftarrow {r_i}(t) + \\Delta t {v_i}(t + \\frac{\\Delta t}{2})$\n",
    "\n",
    "\n",
    "${a_i}(t + \\Delta t) \\leftarrow \\ Update \\ next \\ step \\ force: \\frac{\\vec{F[r(t + {\\Delta t})]}}/{m}$\n",
    "\n",
    "\n",
    "$for i=1 …… n $ n=total atoms number:\n",
    "\n",
    "${v_i}(t + {\\Delta t}) \\leftarrow {v_i}(t + \\frac{\\Delta t}{2}) + \\frac{1}{2} \\Delta t {a_i}(t + \\Delta t) $\n"
   ]
  },
  {
   "cell_type": "code",
   "execution_count": null,
   "metadata": {},
   "outputs": [],
   "source": [
    "\n",
    "def get_accelerations(positions):\n",
    "    \"\"\"\n",
    "    Calculate the acceleration on each \n",
    "    particle as a  result of each other \n",
    "    particle. \n",
    "\n",
    "    \"\"\"\n",
    "    forces = []\n",
    "    # calculate displacements\n",
    "    for i in np.arange(0,len(positions)):\n",
    "        force = 0.0\n",
    "        for j in np.arange(0,len(positions)):\n",
    "            if i != j:\n",
    "                force += \\\n",
    "                    lj_force(positions[j]-positions[i], 0.0103, 3.4);\n",
    "                    #lj_force(positions[j][1]-positions[i][1], 0.0103, 3.4),\n",
    "                    #lj_force(positions[j][2]-positions[i][2], 0.0103, 3.4)\n",
    "                #print(force)\n",
    "        forces.append(force)\n",
    "    assert len(forces) == len(positions)\n",
    "    return np.array(forces)/(mass_of_argon)# list of accelerations at the same length of i\n",
    "\n",
    "accel = get_accelerations(np.array([1, 5, 10]))\n",
    "print('Acceleration on particle 0 = {:.3e} eV/Åamu'.format(\n",
    "    accel[0]))\n",
    "print('Acceleration on particle 1 = {:.3e} eV/Åamu'.format(\n",
    "    accel[1]))\n",
    "print('Acceleration on particle 2 = {:.3e} eV/Åamu'.format(\n",
    "    accel[2]))"
   ]
  },
  {
   "cell_type": "code",
   "execution_count": null,
   "metadata": {},
   "outputs": [],
   "source": [
    "def update_pos(x, v, a, dt):\n",
    "    \"\"\"\n",
    "    Update the particle positions.\n",
    "\n",
    "    x: ndarray of floats\n",
    "        The positions of the particles in a \n",
    "        single dimension \n",
    "    v: ndarray of floats\n",
    "        The velocities of the particles in a \n",
    "        single dimension \n",
    "    a: ndarray of floats\n",
    "        The accelerations of the particles in a \n",
    "        single dimension \n",
    "    dt: float\n",
    "        The timestep length \n",
    "    \n",
    "    \"\"\"\n",
    "    # Use velocity verlet to get new positions\n",
    "    vihalft = ##FILL in from V(t+dt/2) in pseudocode for VV algorithm \n",
    "    ridt = #FILL in from r(t+dt) in pseudocode for VV algorithm\n",
    "    return ridt\n",
    "\n",
    "def update_velo(v, a, a1, dt):\n",
    "    \"\"\"\n",
    "    Update the particle velocities.\n",
    "\n",
    "    v: ndarray of floats\n",
    "        The velocities of the particles in a \n",
    "        single dimension (eVs/Åamu)\n",
    "    a: ndarray of floats\n",
    "        The accelerations of the particles in a \n",
    "        single dimension at the previous \n",
    "        timestep (eV/Åamu)\n",
    "    a1: ndarray of floats\n",
    "        The accelerations of the particles in a \n",
    "        single dimension at the current \n",
    "        timestep (eV/Åamu)\n",
    "    dt: float\n",
    "        The timestep length (s)\n",
    "    \n",
    "    \"\"\"\n",
    "    # Use velocity verlet to get new velocities\n",
    "    vdt = #FILL out from eq5 above\n",
    "    \n",
    "    return vdt"
   ]
  },
  {
   "cell_type": "code",
   "execution_count": null,
   "metadata": {},
   "outputs": [],
   "source": [
    "def init_velocity(T, number_of_particles):\n",
    "    \"\"\"\n",
    "    Initialise the velocities for a series \n",
    "    of particles.\n",
    "\n",
    "    T: float\n",
    "        Temperature of the system at \n",
    "        initialisation (K)\n",
    "    number_of_particles: int\n",
    "        Number of particles in the \n",
    "        system\n",
    "    \n",
    "    \n",
    "    \"\"\"\n",
    "    R = np.random.rand(number_of_particles) - 0.5 #for Question 1\n",
    "    return R * np.sqrt(Boltzmann * T / (mass_of_argon * 1.602e-19))\n",
    "\n",
    "\n"
   ]
  },
  {
   "cell_type": "code",
   "execution_count": null,
   "metadata": {},
   "outputs": [],
   "source": [
    "#Question 1: Why do we subtract 0.5 from the np.random.rand function call.\n",
    "##hint:\n",
    "import matplotlib.pyplot as plt\n",
    "import numpy as np\n",
    "x = np.random.rand(1000)\n",
    "plt.hist(x)\n",
    "plt.show()"
   ]
  },
  {
   "cell_type": "markdown",
   "metadata": {},
   "source": [
    "Lets start to get your hand dirty direct python coding for a MD simulation "
   ]
  },
  {
   "cell_type": "code",
   "execution_count": null,
   "metadata": {},
   "outputs": [],
   "source": [
    "\n",
    "import numpy as np\n",
    "import matplotlib.pyplot as plt\n",
    "from scipy.constants import Boltzmann\n",
    "mass_of_argon = 39.948 # argon \n"
   ]
  },
  {
   "cell_type": "markdown",
   "metadata": {},
   "source": [
    "## Task3: If you have dealt with the above-mentioned functions properly, you will be able to run MD by your own code!\n"
   ]
  },
  {
   "cell_type": "code",
   "execution_count": null,
   "metadata": {},
   "outputs": [],
   "source": [
    "def run_md(dt, number_of_steps, initial_temp, x):\n",
    "\n",
    "    positions = np.zeros((number_of_steps, 3))\n",
    "    v = init_velocity(initial_temp, 3)\n",
    "    a = get_accelerations(x)\n",
    "    for i in range(number_of_steps):\n",
    "        x = update_pos(x, v, a, dt)\n",
    "        a1 = get_accelerations(x)\n",
    "        v = update_velo(v, a, a1, dt)\n",
    "        a = np.array(a1)\n",
    "        positions[i, :] = x\n",
    "    return positions"
   ]
  },
  {
   "cell_type": "code",
   "execution_count": null,
   "metadata": {},
   "outputs": [],
   "source": [
    "x = np.array([1, 5, 10])\n",
    "sim_pos = run_md(0.1, 10000, 300, x)\n",
    "    \n",
    "for i in range(sim_pos.shape[1]):\n",
    "    plt.plot(sim_pos[:, i], '.', label='atom {}'.format(i))\n",
    "plt.xlabel(r'Step')\n",
    "plt.ylabel(r'$x$-Position/Å')\n",
    "plt.legend(frameon=False)\n",
    "plt.show()"
   ]
  },
  {
   "cell_type": "markdown",
   "metadata": {},
   "source": [
    "# Tasks:\n",
    "1. (Easy): Modify vode above so it can work with any arbitrary epsilon and sigma parameters. \n",
    "    For Argon, we used `sigma=3.4 angstroms`, `epsilon=0.0103 kJ/mol`\n",
    "2. (Medium): Modify the code to output the velocities of the particles. \n",
    "    Plot the total momentum of the system (mass times velocity) over time to see if our simulation conserves momentum.\n",
    "3. (Hard): Modify the above code to handle 3 dimensional positions for our input state. Can you plot the total distance between molecules as a function of time?\n",
    "4. (Hard): Energy is a function of positional energy `(potential energy from the lj energy calculation)` and the kinetic energy `(0.5*mass*velocity**2)`. Write out the energy as a function of time and plot over the course of the simulation. See the equation provided in task 1 for the lj energy function."
   ]
  },
  {
   "cell_type": "code",
   "execution_count": null,
   "metadata": {},
   "outputs": [],
   "source": []
  }
 ],
 "metadata": {
  "kernelspec": {
   "display_name": "Python 3 (ipykernel)",
   "language": "python",
   "name": "python3"
  },
  "language_info": {
   "codemirror_mode": {
    "name": "ipython",
    "version": 3
   },
   "file_extension": ".py",
   "mimetype": "text/x-python",
   "name": "python",
   "nbconvert_exporter": "python",
   "pygments_lexer": "ipython3",
   "version": "3.8.10"
  }
 },
 "nbformat": 4,
 "nbformat_minor": 4
}
